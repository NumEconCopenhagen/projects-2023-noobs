{
 "cells": [
  {
   "cell_type": "code",
   "execution_count": 279,
   "metadata": {},
   "outputs": [
    {
     "data": {
      "image/png": "[encoded data removed]",
      "text/plain": [
       "<Figure size 640x480 with 1 Axes>"
      ]
     },
     "metadata": {},
     "output_type": "display_data"
    }
   ],
   "source": [
    "import matplotlib.pyplot as plt\n",
    "\n",
    "a = 0\n",
    "b = 0.3\n",
    "x = 0.5  # pont where the consumer is indifferent between buying from the two firms\n",
    "\n",
    "# Plotting the linear city\n",
    "x_vals = [0, a, x, 1 - b, 1]\n",
    "y_vals = [0, 0, 0, 0, 0]  # Setting y-coordinates to zero for all points\n",
    "plt.plot(x_vals, y_vals, color='black', linewidth=2)\n",
    "\n",
    "# Marking the firm locations as intervals\n",
    "plt.hlines(y=0, xmin=a, xmax=0.3, color='red', linewidth=2)\n",
    "plt.hlines(y=0, xmin=1 - b, xmax=1, color='blue', linewidth=2)\n",
    "plt.annotate('Firm 1', (a, 0), xytext=(0.15, -0.01), ha='center', color='red')\n",
    "plt.annotate('Firm 2', (1 - b, 0), xytext=(0.85, -0.01), ha='center', color='blue')\n",
    "\n",
    "# Marking the new point\n",
    "plt.scatter(x, 0, color='green', label='Indifferent consumers')\n",
    "plt.annotate(rf\"$\\hat{{x}}$\", (x, 0), xytext=(x, -0.01), ha='center', color='green')\n",
    "\n",
    "# Setting plot properties\n",
    "plt.xlabel('Location')\n",
    "plt.title('Linear City Model')\n",
    "plt.legend()\n",
    "\n",
    "# Removing the y-axis ticks and labels\n",
    "plt.yticks([])\n",
    "plt.gca().spines['left'].set_visible(False)\n",
    "plt.gca().spines['right'].set_visible(False)\n",
    "plt.gca().spines['top'].set_visible(False)\n",
    "plt.gca().spines['bottom'].set_visible(False)\n",
    "\n",
    "# Display the plot\n",
    "plt.show()"
   ]
  },
  {
   "cell_type": "code",
   "execution_count": 280,
   "metadata": {},
   "outputs": [
    {
     "name": "stdout",
     "output_type": "stream",
     "text": [
      "The location x_hat where consumers are indifferent is: (-p_1 + p_2 + t)/(2*t)\n"
     ]
    }
   ],
   "source": [
    "from sympy import symbols, Eq, solve\n",
    "\n",
    "# Define the variables and parameters\n",
    "x = symbols('x')\n",
    "r, t, p_1, p_2, = symbols('r t p_1 p_2')\n",
    "\n",
    "# Define the utility functions\n",
    "V_1 = r - t * x**2 - p_1\n",
    "V_2 = r - t * (x - 1)**2 - p_2\n",
    "\n",
    "# Set V_1 equal to V_2 and solve for x\n",
    "equation = Eq(V_1, V_2)\n",
    "solution = solve(equation, x)\n",
    "\n",
    "x_hat = solution[0]  # Get the first solution\n",
    "\n",
    "# Print the result\n",
    "print(f\"The location x_hat where consumers are indifferent is: {x_hat}\")\n"
   ]
  },
  {
   "cell_type": "code",
   "execution_count": 281,
   "metadata": {},
   "outputs": [
    {
     "name": "stdout",
     "output_type": "stream",
     "text": [
      "Demand 1 is hereby: (-p_1 + p_2 + t)/(2*t)\n",
      "Demand 2 is hereby: 1 - (-p_1 + p_2 + t)/(2*t)\n"
     ]
    }
   ],
   "source": [
    "print(f\"Demand 1 is hereby: {x_hat}\")\n",
    "print(f\"Demand 2 is hereby: {1-x_hat}\")"
   ]
  },
  {
   "cell_type": "code",
   "execution_count": 282,
   "metadata": {},
   "outputs": [
    {
     "name": "stdout",
     "output_type": "stream",
     "text": [
      "Profit function for firm 1:\n",
      "(-c*(-p_1 + p_2 + t) + 2*p_1*t)*(-p_1 + p_2 + t)/(4*t**2)\n",
      "\n",
      "Profit function for firm 2:\n",
      "(-c*(p_1 - p_2 + t) + 2*p_2*t)*(p_1 - p_2 + t)/(4*t**2)\n",
      "\n",
      "Optimal price for both firms:\n",
      "[c + t]\n",
      "\n",
      "Marginal Cost (MC):\n",
      "c\n",
      "\n",
      "Price-marginal cost margin:\n",
      "t\n",
      "\n",
      "Optimal profit for firm 1:\n",
      "c/4 + t/2\n"
     ]
    }
   ],
   "source": [
    "from sympy import symbols, simplify, solve\n",
    "\n",
    "# Define the variables and parameters\n",
    "p_1, p_2, r, t, c = symbols('p_1 p_2 r t c')\n",
    "\n",
    "# Define the demand functions\n",
    "demand_1 = x_hat\n",
    "demand_2 = 1 - x_hat\n",
    "\n",
    "# Calculate the revenue for firm 1 and firm 2\n",
    "revenue_1 = demand_1 * p_1\n",
    "revenue_2 = demand_2 * p_2\n",
    "\n",
    "# Calculate the cost for firm 1 and firm 2\n",
    "cost_1 = c * demand_1**2\n",
    "cost_2 = c * demand_2**2\n",
    "\n",
    "# Calculate the profit for firm 1 and firm 2\n",
    "profit_1 = simplify(revenue_1 - cost_1)\n",
    "profit_2 = simplify(revenue_2 - cost_2)\n",
    "\n",
    "# Print the profit functions\n",
    "print(\"Profit function for firm 1:\")\n",
    "print(profit_1)\n",
    "\n",
    "print(\"\\nProfit function for firm 2:\")\n",
    "print(profit_2)\n",
    "\n",
    "# Differentiate the profit function with respect to the price\n",
    "derivative = profit_1.diff(p_1)\n",
    "\n",
    "# Solve for the optimal price\n",
    "optimal_p = solve(derivative.subs(p_2, p_1), p_1)  # Substitute p_2 with p_1\n",
    "\n",
    "# Print the optimal price\n",
    "print(\"\\nOptimal price for both firms:\")\n",
    "print(optimal_p)\n",
    "\n",
    "# Calculate the marginal cost\n",
    "MC = simplify(2 * c * demand_1.subs([(p_1, optimal_p[0]), (p_2, optimal_p[0])]))\n",
    "\n",
    "# Print the marginal cost\n",
    "print(\"\\nMarginal Cost (MC):\")\n",
    "print(MC)\n",
    "\n",
    "# Calculate the price-marginal cost margin, p*-MC\n",
    "price_margin_cost_margin = optimal_p[0] - MC\n",
    "print(\"\\nPrice-marginal cost margin:\")\n",
    "print(price_margin_cost_margin)\n",
    "\n",
    "# Substitute the optimal price into profit functions\n",
    "optimal_profit_1 = simplify(profit_1.subs([(p_1, optimal_p[0]), (p_2, optimal_p[0])]))\n",
    "\n",
    "# Print the optimal profit\n",
    "print(\"\\nOptimal profit for firm 1:\")\n",
    "print(optimal_profit_1)\n"
   ]
  },
  {
   "cell_type": "markdown",
   "metadata": {},
   "source": [
    "We can now use this to find the price-marginal cost margin, where:\n",
    "MC=2cq(p^* )=2c(1/2+(τ+c-τ+c)/2τ)=c\n",
    "And p^*-MC=τ+c-c=τ\n"
   ]
  },
  {
   "attachments": {},
   "cell_type": "markdown",
   "metadata": {},
   "source": [
    "When τ→0\t\n",
    "Will p*-MC=0, which is because p^*=MC \n",
    "which means that the firms no longer have any market power.\n",
    "The reason for this is, that the consumers now have no transportation cost, and can freely choose the firm with the lowest price which makes the firms to compete against each other by undercutting the firm’s price.\n",
    "\n",
    "When τ→0\n",
    "Will π^*=c/4\n",
    "Which is because the cost function is quadratic. If it wasn’t then we would have 0 profit.\n",
    "\n"
   ]
  }
 ],
 "metadata": {
  "kernelspec": {
   "display_name": "base",
   "language": "python",
   "name": "python3"
  },
  "language_info": {
   "codemirror_mode": {
    "name": "ipython",
    "version": 3
   },
   "file_extension": ".py",
   "mimetype": "text/x-python",
   "name": "python",
   "nbconvert_exporter": "python",
   "pygments_lexer": "ipython3",
   "version": "3.9.16"
  },
  "orig_nbformat": 4
 },
 "nbformat": 4,
 "nbformat_minor": 2
}
