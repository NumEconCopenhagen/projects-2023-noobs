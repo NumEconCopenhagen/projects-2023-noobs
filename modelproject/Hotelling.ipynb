{
 "cells": [
  {
   "attachments": {},
   "cell_type": "markdown",
   "metadata": {},
   "source": [
    "# Hotelling’s Linear City Model\n",
    "Hotelling's Linear City Model, proposed by Harold Hotelling in 1929, is an economic model that describes the geografical location of firms in a city where everything is located on the same street. The model assumes that consumers are uniformly distributed along a linear market and have homogeneous preferences for a single product. Firms, on the other hand, aim to maximize their market share and profits."
   ]
  },
  {
   "attachments": {},
   "cell_type": "markdown",
   "metadata": {},
   "source": [
    "In our model we wish to investigate Hotelling’s Linear City Model with Fixed Locations and Quadratic Production Costs, where there is 2 firms that sells the same good, and have exogeneous and fixed locations at $a=b=0$.\n",
    "Each firm is defined by its location in the unit interval, where firm 1’s location is $a$, and firm 2’s location is $1-b$, and the common production cost is:\n",
    "\n",
    "$C(Q_i (p_1,p_2 ))=c(Q_i (p_1,p_2 ))^2$\n",
    "\n",
    "The consumers with different locations $x$, are uniformly distributed on the unit interval.\n",
    "Where $\\hat{x}$ is the location where the consumer is indifferent between buying from firm 1 and 2.\n",
    "\n",
    "The utility of a consumer, located at $x$ if buying from firm 1 is:\n",
    "\n",
    "$V_1 (x)=r-t(x-a)^2-p_1$\n",
    "\n",
    "The utility from buying from firm 2 is:\n",
    "\n",
    "$V_2 (x)=r-t(x-(1-b))^2-p_2$\n",
    "\n",
    "Where $r$ is the consumers' reservation price, and $t(x-a)^2$ is the function that measures the transportation cost from buying from firm 1, and $t(x-(1-b))^2$ the function that measures the transportation cost from buying from firm 2.\n",
    "\n",
    "Timing of the game:\n",
    "\n",
    "* Firms simultaneously chooses their prices\n",
    "* Each consumer observes the prices and then deciding which firm to buy from.\n",
    "\n"
   ]
  },
  {
   "attachments": {},
   "cell_type": "markdown",
   "metadata": {},
   "source": [
    "**We write up the code that illustrates this specific Linear City:**"
   ]
  },
  {
   "cell_type": "code",
   "execution_count": 24,
   "metadata": {},
   "outputs": [
    {
     "data": {
      "image/png": "[encoded data removed]",
      "text/plain": [
       "<Figure size 640x480 with 1 Axes>"
      ]
     },
     "metadata": {},
     "output_type": "display_data"
    }
   ],
   "source": [
    "#The linear city:\n",
    "import matplotlib.pyplot as plt\n",
    "\n",
    "a = 0    # point for firm 1\n",
    "b = 0.0  # point for firm 2\n",
    "x = 0.5  # point where the consumer is indifferent between buying from the two firms\n",
    "\n",
    "# Plotting the linear city\n",
    "x_vals = [0, a, x, 1 - b, 1]\n",
    "y_vals = [0, 0, 0, 0, 0]  # Setting y-coordinates to zero for all points\n",
    "plt.plot(x_vals, y_vals, color='black', linewidth=2)\n",
    "\n",
    "# Marking the new point\n",
    "plt.scatter(x, 0, color='green', label='Indifferent consumers')\n",
    "plt.annotate(rf\"$\\hat{{x}}$\", (x, 0), xytext=(x, 0.01), ha='center', color='green', fontsize=12)\n",
    "plt.scatter(a, 0, color='red', label='Firm 1')\n",
    "plt.annotate(\"Firm 1\", (a, 0), xytext=(a, 0.01), ha='center', color='red', fontsize=12)\n",
    "plt.scatter(1 - b, 0, color='blue', label='Firm 2')\n",
    "plt.annotate(\"Firm 2\", (1 - b, 0), xytext=(1 - b, 0.01), ha='center', color='blue', fontsize=12)\n",
    "\n",
    "# Setting plot properties\n",
    "plt.xlabel('Location', fontsize=14)\n",
    "plt.title('Linear City Model', fontsize=16)\n",
    "plt.legend()\n",
    "\n",
    "# Removing the y-axis ticks and labels\n",
    "plt.yticks([])\n",
    "plt.gca().spines['left'].set_visible(False)\n",
    "plt.gca().spines['right'].set_visible(False)\n",
    "plt.gca().spines['top'].set_visible(False)\n",
    "plt.gca().spines['bottom'].set_visible(False)\n",
    "\n",
    "# Adjusting the y-limits\n",
    "plt.ylim(-0.1, 0.1)\n",
    "\n",
    "# Moving the x-axis up\n",
    "plt.gca().spines['bottom'].set_position(('data', 0.0))\n",
    "\n",
    "# Display the plot\n",
    "plt.show()\n"
   ]
  },
  {
   "attachments": {},
   "cell_type": "markdown",
   "metadata": {},
   "source": [
    "**Now we wish to solve the equilibrium prices. Calculate the price marginal cost margin $(p-MC)$, and the firms’ equilibrium profits. And thereafre investigate what happens when $t→0$.**\n"
   ]
  },
  {
   "attachments": {},
   "cell_type": "markdown",
   "metadata": {},
   "source": [
    "We solve the game by backwards induction, where we start solving the consumers problem such that we find the demand functions for firm 1 and 2.\n",
    "\n",
    "* Stage 2:\n",
    "\n",
    "We find the case where the consumers are indifferent between buying from firm 1 and 2, which is at the location $\\hat{x}$, where this is where $V_1=V_2$. We solve for $\\hat{x}$:\n"
   ]
  },
  {
   "cell_type": "code",
   "execution_count": 26,
   "metadata": {},
   "outputs": [
    {
     "name": "stdout",
     "output_type": "stream",
     "text": [
      "The location x_hat where consumers are indifferent is: (-p_1 + p_2 + t)/(2*t)\n"
     ]
    }
   ],
   "source": [
    "from sympy import symbols, Eq, solve\n",
    "\n",
    "# Define the variables and parameters\n",
    "x = symbols('x')\n",
    "r, t, p_1, p_2, = symbols('r t p_1 p_2')\n",
    "\n",
    "# Define the utility functions\n",
    "V_1 = r - t * x**2 - p_1\n",
    "V_2 = r - t * (x - 1)**2 - p_2\n",
    "\n",
    "# Set V_1 equal to V_2 and solve for x\n",
    "equation = Eq(V_1, V_2)\n",
    "solution = solve(equation, x)\n",
    "\n",
    "x_hat = solution[0]  # Get the first solution\n",
    "\n",
    "# Print the result\n",
    "print(f\"The location x_hat where consumers are indifferent is: {x_hat}\")\n"
   ]
  },
  {
   "cell_type": "code",
   "execution_count": 27,
   "metadata": {},
   "outputs": [
    {
     "name": "stdout",
     "output_type": "stream",
     "text": [
      "Demand for firm 1 is hereby: (-p_1 + p_2 + t)/(2*t)\n",
      "Demand for firm 2 is hereby: 1 - (-p_1 + p_2 + t)/(2*t)\n"
     ]
    }
   ],
   "source": [
    "print(f\"Demand for firm 1 is hereby: {x_hat}\")\n",
    "print(f\"Demand for firm 2 is hereby: {1-x_hat}\")"
   ]
  },
  {
   "attachments": {},
   "cell_type": "markdown",
   "metadata": {},
   "source": [
    "* Stage 1:\n",
    "\n",
    "We find the optimal price, and thereby the optimal profit"
   ]
  },
  {
   "cell_type": "code",
   "execution_count": 282,
   "metadata": {},
   "outputs": [
    {
     "name": "stdout",
     "output_type": "stream",
     "text": [
      "Profit function for firm 1:\n",
      "(-c*(-p_1 + p_2 + t) + 2*p_1*t)*(-p_1 + p_2 + t)/(4*t**2)\n",
      "\n",
      "Profit function for firm 2:\n",
      "(-c*(p_1 - p_2 + t) + 2*p_2*t)*(p_1 - p_2 + t)/(4*t**2)\n",
      "\n",
      "Optimal price for both firms:\n",
      "[c + t]\n",
      "\n",
      "Marginal Cost (MC):\n",
      "c\n",
      "\n",
      "Price-marginal cost margin:\n",
      "t\n",
      "\n",
      "Optimal profit for firm 1:\n",
      "c/4 + t/2\n"
     ]
    }
   ],
   "source": [
    "from sympy import symbols, simplify, solve\n",
    "\n",
    "# Define the variables and parameters\n",
    "p_1, p_2, r, t, c = symbols('p_1 p_2 r t c')\n",
    "\n",
    "# Define the demand functions\n",
    "demand_1 = x_hat\n",
    "demand_2 = 1 - x_hat\n",
    "\n",
    "# Calculate the revenue for firm 1 and firm 2\n",
    "revenue_1 = demand_1 * p_1\n",
    "revenue_2 = demand_2 * p_2\n",
    "\n",
    "# Calculate the cost for firm 1 and firm 2\n",
    "cost_1 = c * demand_1**2\n",
    "cost_2 = c * demand_2**2\n",
    "\n",
    "# Calculate the profit for firm 1 and firm 2\n",
    "profit_1 = simplify(revenue_1 - cost_1)\n",
    "profit_2 = simplify(revenue_2 - cost_2)\n",
    "\n",
    "# Print the profit functions\n",
    "print(\"Profit function for firm 1:\")\n",
    "print(profit_1)\n",
    "\n",
    "print(\"\\nProfit function for firm 2:\")\n",
    "print(profit_2)\n",
    "\n",
    "# Differentiate the profit function with respect to the price\n",
    "derivative = profit_1.diff(p_1)\n",
    "\n",
    "# Solve for the optimal price (we apply symmetry, as profit functions symmetric, hereby p_1=p_2)\n",
    "optimal_p = solve(derivative.subs(p_2, p_1), p_1)  # Substitute p_2 with p_1\n",
    "\n",
    "# Print the optimal price\n",
    "print(\"\\nOptimal price for both firms:\")\n",
    "print(optimal_p)\n",
    "\n",
    "# Calculate the marginal cost\n",
    "MC = simplify(2 * c * demand_1.subs([(p_1, optimal_p[0]), (p_2, optimal_p[0])]))\n",
    "\n",
    "# Print the marginal cost\n",
    "print(\"\\nMarginal Cost (MC):\")\n",
    "print(MC)\n",
    "\n",
    "# Calculate the price-marginal cost margin, p*-MC\n",
    "price_margin_cost_margin = optimal_p[0] - MC\n",
    "print(\"\\nPrice-marginal cost margin:\")\n",
    "print(price_margin_cost_margin)\n",
    "\n",
    "# Substitute the optimal price into profit functions\n",
    "optimal_profit_1 = simplify(profit_1.subs([(p_1, optimal_p[0]), (p_2, optimal_p[0])]))\n",
    "\n",
    "# Print the optimal profit\n",
    "print(\"\\nOptimal profit for firm 1:\")\n",
    "print(optimal_profit_1)\n"
   ]
  },
  {
   "attachments": {},
   "cell_type": "markdown",
   "metadata": {},
   "source": [
    "* We find that when $t→0$, will $p^*-MC=0$, which is because $p^*=MC$ which means that the firms no longer have any market power.\n",
    "The reason for this is, that the consumers now have no transportation cost, and can freely choose the firm with the lowest price which makes the firms to compete against each other by undercutting the firm’s price.\n",
    "\n",
    "* In addition we find that when $t→0$ will $π^*=\\frac{c}{4}$ which is because the cost function is quadratic. If it wasn’t then we would have 0 profit.\n",
    "\n"
   ]
  }
 ],
 "metadata": {
  "kernelspec": {
   "display_name": "base",
   "language": "python",
   "name": "python3"
  },
  "language_info": {
   "codemirror_mode": {
    "name": "ipython",
    "version": 3
   },
   "file_extension": ".py",
   "mimetype": "text/x-python",
   "name": "python",
   "nbconvert_exporter": "python",
   "pygments_lexer": "ipython3",
   "version": "3.9.16"
  },
  "orig_nbformat": 4,
  "vscode": {
   "interpreter": {
    "hash": "27871bb776cd64da3396aefbb91cd1f5b94cfa7205ce999e2f32adc9cda7309b"
   }
  }
 },
 "nbformat": 4,
 "nbformat_minor": 2
}
