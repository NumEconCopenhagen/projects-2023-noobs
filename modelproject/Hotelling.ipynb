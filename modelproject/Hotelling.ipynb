{
 "cells": [
  {
   "attachments": {},
   "cell_type": "markdown",
   "metadata": {},
   "source": [
    "**Imports:**"
   ]
  },
  {
   "cell_type": "code",
   "execution_count": 217,
   "metadata": {},
   "outputs": [],
   "source": [
    "import matplotlib.pyplot as plt\n",
    "from sympy import symbols, simplify, solve, Eq\n",
    "import sympy as sm\n",
    "import numpy as np\n",
    "import scipy.optimize as opt\n",
    "import matplotlib.ticker as ticker"
   ]
  },
  {
   "attachments": {},
   "cell_type": "markdown",
   "metadata": {},
   "source": [
    "# Hotelling’s Linear City Model\n",
    "Hotelling's Linear City Model, proposed by Harold Hotelling in 1929, is an economic model that describes the geografical location of firms in a city where everything is located on the same street. The model assumes that consumers are uniformly distributed along a linear market and have homogeneous preferences for a single product. Firms, on the other hand, aim to maximize their market share and profits."
   ]
  },
  {
   "attachments": {},
   "cell_type": "markdown",
   "metadata": {},
   "source": [
    "In the Linear City Model proposed by Hotelling, a linear transportation cost is incorporated, represented as $t(x-a)$. In this model, firms will ultimately position themselves at the city's center, resulting in minimal product differentiation."
   ]
  },
  {
   "attachments": {},
   "cell_type": "markdown",
   "metadata": {},
   "source": [
    "In our model we wish to extent Hotelling's original Linear City Model, by using fixed locations and quadratic transportations costs, where there are two firms that sells the same good, and have exogeneous and fixed locations at $a=b=0$ (the firms in this case will fully differentiate them from each other).\n",
    "Each firm is defined by its location in the unit interval, where firm 1’s location is $a$, and firm 2’s location is $1-b$, and the common production cost is:\n",
    "\n",
    "$C(Q_i (p_1,p_2 ))=c(Q_i (p_1,p_2 ))$\n",
    "\n",
    "The consumers with different locations $x$, are uniformly distributed on the unit interval.\n",
    "Where $\\hat{x}$ is the location where the consumer is indifferent between buying from firm 1 and 2.\n",
    "\n",
    "The utility of a consumer, located at $x$ if buying from firm 1 is:\n",
    "\n",
    "$V_1 (x)=r-t(x-a)^2-p_1$\n",
    "\n",
    "The utility from buying from firm 2 is:\n",
    "\n",
    "$V_2 (x)=r-t(x-(1-b))^2-p_2$\n",
    "\n",
    "Where $r$ is the consumers' reservation price, and $t(x-a)^2$ is the function that measures the transportation cost from buying from firm 1, and $t(x-(1-b))^2$ the function that measures the transportation cost from buying from firm 2.\n",
    "\n",
    "Timing of the game:\n",
    "\n",
    "* Firms simultaneously chooses their prices\n",
    "* Each consumer observes the prices and then deciding which firm to buy from.\n",
    "\n"
   ]
  },
  {
   "attachments": {},
   "cell_type": "markdown",
   "metadata": {},
   "source": [
    "**We write up the code that illustrates this specific Linear City where the firms are fully differentiated:**"
   ]
  },
  {
   "cell_type": "code",
   "execution_count": 218,
   "metadata": {},
   "outputs": [
    {
     "data": {
      "image/png": "[encoded data removed]",
      "text/plain": [
       "<Figure size 1200x300 with 1 Axes>"
      ]
     },
     "metadata": {},
     "output_type": "display_data"
    }
   ],
   "source": [
    "#The linear city:\n",
    "a = 0.0    # point for firm 1\n",
    "b = 0.0  # point for firm 2\n",
    "x = 0.5  # point where the consumer is indifferent between buying from the two firms\n",
    "\n",
    "# Adjusting the figure size and padding\n",
    "fig, ax = plt.subplots(figsize=(12, 3), gridspec_kw={'left': 0.1, 'right': 1.0, 'top': 1.0, 'bottom': 0.1})\n",
    "\n",
    "# Plotting the linear city\n",
    "x_vals = [0, a, x, 1 - b, 1]\n",
    "y_vals = [0, 0, 0, 0, 0]  # Setting y-coordinates to zero for all points\n",
    "ax.plot(x_vals, y_vals, color='black', linewidth=2)\n",
    "\n",
    "# Marking the new point\n",
    "ax.scatter(x, 0, color='green', label='Indifferent consumers')\n",
    "ax.annotate(rf\"$\\hat{{x}}$\", (x, 0), xytext=(x, 0.01), ha='center', color='green', fontsize=16)\n",
    "ax.scatter(a, 0, color='red', label='Firm 1')\n",
    "ax.annotate(\"Firm 1\", (a, 0), xytext=(a, 0.01), ha='center', color='red', fontsize=16)\n",
    "ax.scatter(1 - b, 0, color='blue', label='Firm 2')\n",
    "ax.annotate(\"Firm 2\", (1 - b, 0), xytext=(1 - b, 0.01), ha='center', color='blue', fontsize=16)\n",
    "\n",
    "# Setting plot properties\n",
    "ax.set_xlabel('Location', fontsize=16)\n",
    "ax.set_title('Linear City Model', fontsize=20)\n",
    "ax.legend()\n",
    "\n",
    "# Removing the y-axis ticks and labels\n",
    "ax.yaxis.set_ticks([])\n",
    "\n",
    "# Adjusting the y-limits\n",
    "ax.set_ylim(-0.1, 0.1)\n",
    "\n",
    "# Moving the x-axis up\n",
    "ax.spines['bottom'].set_position(('data', 0.0))\n",
    "\n",
    "# Display the plot\n",
    "plt.show()\n"
   ]
  },
  {
   "attachments": {},
   "cell_type": "markdown",
   "metadata": {},
   "source": [
    "**Now we wish to solve the equilibrium prices, calculate the price marginal cost margin $(p-MC)$, and the firms’ equilibrium profits, and thereafter investigate what happens when $t→0$.**"
   ]
  },
  {
   "attachments": {},
   "cell_type": "markdown",
   "metadata": {},
   "source": [
    "We solve the game by backwards induction, where we start solving the consumers problem such that we find the demand functions for firm 1 and 2.\n",
    "\n",
    "* Stage 2:\n",
    "\n",
    "We find the case where the consumers are indifferent between buying from firm 1 and 2, which is at the location $\\hat{x}$, where this is where $V_1=V_2$. We solve for $\\hat{x}$:\n"
   ]
  },
  {
   "cell_type": "code",
   "execution_count": 219,
   "metadata": {},
   "outputs": [
    {
     "name": "stdout",
     "output_type": "stream",
     "text": [
      "The location where consumers are indifferent is:\n"
     ]
    },
    {
     "data": {
      "text/latex": [
       "$\\displaystyle \\frac{- p_{1} + p_{2} + t}{2 t}$"
      ],
      "text/plain": [
       "(-p_1 + p_2 + t)/(2*t)"
      ]
     },
     "execution_count": 219,
     "metadata": {},
     "output_type": "execute_result"
    }
   ],
   "source": [
    "# Define the variables and parameters\n",
    "x = sm.symbols('x')\n",
    "r, t, p_1, p_2 = sm.symbols('r t p_1 p_2')\n",
    "\n",
    "# Define the utility functions\n",
    "V_1 = r - t * x**2 - p_1\n",
    "V_2 = r - t * (x - 1)**2 - p_2\n",
    "\n",
    "# Set V_1 equal to V_2 and solve for x\n",
    "equation = sm.Eq(V_1, V_2)\n",
    "solution = sm.solve(equation, x)\n",
    "\n",
    "x_hat = solution[0]  # Get the first solution\n",
    "\n",
    "# Print the result\n",
    "print(\"The location where consumers are indifferent is:\")\n",
    "x_hat"
   ]
  },
  {
   "cell_type": "code",
   "execution_count": 220,
   "metadata": {},
   "outputs": [
    {
     "name": "stdout",
     "output_type": "stream",
     "text": [
      "Demand for firm 1 is hereby:\n"
     ]
    },
    {
     "data": {
      "text/latex": [
       "$\\displaystyle \\frac{- p_{1} + p_{2} + t}{2 t}$"
      ],
      "text/plain": [
       "(-p_1 + p_2 + t)/(2*t)"
      ]
     },
     "execution_count": 220,
     "metadata": {},
     "output_type": "execute_result"
    }
   ],
   "source": [
    "print(f\"Demand for firm 1 is hereby:\")\n",
    "x_hat"
   ]
  },
  {
   "cell_type": "code",
   "execution_count": 221,
   "metadata": {},
   "outputs": [
    {
     "name": "stdout",
     "output_type": "stream",
     "text": [
      "Demand for firm 2 is hereby:\n"
     ]
    },
    {
     "data": {
      "text/latex": [
       "$\\displaystyle 1 - \\frac{- p_{1} + p_{2} + t}{2 t}$"
      ],
      "text/plain": [
       "1 - (-p_1 + p_2 + t)/(2*t)"
      ]
     },
     "execution_count": 221,
     "metadata": {},
     "output_type": "execute_result"
    }
   ],
   "source": [
    "print(f\"Demand for firm 2 is hereby:\")\n",
    "1-x_hat"
   ]
  },
  {
   "attachments": {},
   "cell_type": "markdown",
   "metadata": {},
   "source": [
    "* Stage 1:\n",
    "\n",
    "We find the optimal price, and thereby the optimal profit"
   ]
  },
  {
   "cell_type": "code",
   "execution_count": 222,
   "metadata": {},
   "outputs": [],
   "source": [
    "# Define the variables and parameters\n",
    "p_1, p_2, r, t, c = sm.symbols('p_1 p_2 r t c')\n",
    "\n",
    "# Define the demand functions\n",
    "demand_1 = x_hat\n",
    "demand_2 = 1 - x_hat\n",
    "\n",
    "# Calculate the revenue for firm 1 and firm 2\n",
    "revenue_1 = demand_1 * p_1\n",
    "revenue_2 = demand_2 * p_2\n",
    "\n",
    "# Calculate the cost for firm 1 and firm 2\n",
    "cost_1 = c * demand_1\n",
    "cost_2 = c * demand_2\n",
    "\n",
    "# Calculate the profit for firm 1 and firm 2\n",
    "profit_1 = sm.simplify(revenue_1 - cost_1)\n",
    "profit_2 = sm.simplify(revenue_2 - cost_2)\n",
    "\n",
    "# Differentiate the profit function with respect to the price\n",
    "derivative = profit_1.diff(p_1)\n",
    "\n",
    "# Solve for the optimal price (we apply symmetry, as the profit functions are symmetric, hereby p_1=p_2)\n",
    "optimal_p = sm.solve(derivative.subs(p_2, p_1), p_1)  # Substitute p_2 with p_1\n",
    "\n",
    "# Calculate the marginal cost\n",
    "MC = sm.simplify(2 * c * demand_1.subs([(p_1, optimal_p[0]), (p_2, optimal_p[0])]))\n",
    "\n",
    "# Calculate the price-marginal cost margin, p*-MC\n",
    "price_margin_cost_margin = optimal_p[0] - MC\n",
    "\n",
    "# Substitute the optimal price into profit functions\n",
    "optimal_profit_1 = simplify(profit_1.subs([(p_1, optimal_p[0]), (p_2, optimal_p[0])]))"
   ]
  },
  {
   "cell_type": "code",
   "execution_count": 223,
   "metadata": {},
   "outputs": [
    {
     "name": "stdout",
     "output_type": "stream",
     "text": [
      "Profit function for firm 1:\n"
     ]
    },
    {
     "data": {
      "text/latex": [
       "$\\displaystyle \\frac{\\left(- c + p_{1}\\right) \\left(- p_{1} + p_{2} + t\\right)}{2 t}$"
      ],
      "text/plain": [
       "(-c + p_1)*(-p_1 + p_2 + t)/(2*t)"
      ]
     },
     "execution_count": 223,
     "metadata": {},
     "output_type": "execute_result"
    }
   ],
   "source": [
    "# Print the profit functions for firm 1\n",
    "print(\"Profit function for firm 1:\")\n",
    "profit_1"
   ]
  },
  {
   "cell_type": "code",
   "execution_count": 224,
   "metadata": {},
   "outputs": [
    {
     "name": "stdout",
     "output_type": "stream",
     "text": [
      "\n",
      "Profit function for firm 2:\n"
     ]
    },
    {
     "data": {
      "text/latex": [
       "$\\displaystyle \\frac{\\left(- c + p_{2}\\right) \\left(p_{1} - p_{2} + t\\right)}{2 t}$"
      ],
      "text/plain": [
       "(-c + p_2)*(p_1 - p_2 + t)/(2*t)"
      ]
     },
     "execution_count": 224,
     "metadata": {},
     "output_type": "execute_result"
    }
   ],
   "source": [
    "# Print the profit functions for firm 2\n",
    "print(\"\\nProfit function for firm 2:\")\n",
    "profit_2"
   ]
  },
  {
   "cell_type": "code",
   "execution_count": 225,
   "metadata": {},
   "outputs": [
    {
     "name": "stdout",
     "output_type": "stream",
     "text": [
      "\n",
      "Optimal price for both firms:\n"
     ]
    },
    {
     "data": {
      "text/plain": [
       "[c + t]"
      ]
     },
     "execution_count": 225,
     "metadata": {},
     "output_type": "execute_result"
    }
   ],
   "source": [
    "# Print the optimal price\n",
    "print(\"\\nOptimal price for both firms:\")\n",
    "optimal_p"
   ]
  },
  {
   "cell_type": "code",
   "execution_count": 226,
   "metadata": {},
   "outputs": [
    {
     "name": "stdout",
     "output_type": "stream",
     "text": [
      "\n",
      "Marginal Cost (MC):\n"
     ]
    },
    {
     "data": {
      "text/latex": [
       "$\\displaystyle c$"
      ],
      "text/plain": [
       "c"
      ]
     },
     "execution_count": 226,
     "metadata": {},
     "output_type": "execute_result"
    }
   ],
   "source": [
    "# Print the marginal cost\n",
    "print(\"\\nMarginal Cost (MC):\")\n",
    "MC"
   ]
  },
  {
   "cell_type": "code",
   "execution_count": 227,
   "metadata": {},
   "outputs": [
    {
     "name": "stdout",
     "output_type": "stream",
     "text": [
      "\n",
      "Price-marginal cost margin:\n"
     ]
    },
    {
     "data": {
      "text/latex": [
       "$\\displaystyle t$"
      ],
      "text/plain": [
       "t"
      ]
     },
     "execution_count": 227,
     "metadata": {},
     "output_type": "execute_result"
    }
   ],
   "source": [
    "# Print the price-marginal cost margin\n",
    "print(\"\\nPrice-marginal cost margin:\")\n",
    "price_margin_cost_margin"
   ]
  },
  {
   "cell_type": "code",
   "execution_count": 228,
   "metadata": {},
   "outputs": [
    {
     "name": "stdout",
     "output_type": "stream",
     "text": [
      "\n",
      "Optimal profit for firm 1:\n"
     ]
    },
    {
     "data": {
      "text/latex": [
       "$\\displaystyle \\frac{t}{2}$"
      ],
      "text/plain": [
       "t/2"
      ]
     },
     "execution_count": 228,
     "metadata": {},
     "output_type": "execute_result"
    }
   ],
   "source": [
    "# Print the optimal profit\n",
    "print(\"\\nOptimal profit for firm 1:\")\n",
    "optimal_profit_1"
   ]
  },
  {
   "attachments": {},
   "cell_type": "markdown",
   "metadata": {},
   "source": [
    "* We find that when $t→0$, will $p^*-MC=0$, which is because $p^*=MC$ which means that the firms no longer have any market power.\n",
    "The reason for this is, that the consumers now have no transportation cost, and can freely choose the firm with the lowest price which makes the firms to compete against each other by undercutting the firm’s price.\n",
    "\n",
    "* In addition we find that when $t→0$ will $π^*=0$ which is the case where we end up in the Bertrand model, where the firms undercut each other until their prices are equal to their marginal cost.\n",
    "\n"
   ]
  },
  {
   "attachments": {},
   "cell_type": "markdown",
   "metadata": {},
   "source": [
    "**We can also obtain a numerical solution to the model using the following code:**"
   ]
  },
  {
   "attachments": {},
   "cell_type": "markdown",
   "metadata": {},
   "source": [
    "We still assume that the firms are fully differentiated, and therefore located at a=b=0."
   ]
  },
  {
   "cell_type": "code",
   "execution_count": 229,
   "metadata": {},
   "outputs": [
    {
     "name": "stdout",
     "output_type": "stream",
     "text": [
      "Firm 1: profit = 1.50, price = 5.00, for c=2 and t=3\n",
      "Firm 2: profit = 1.50, price = 5.00, for c=2 and t=3\n"
     ]
    }
   ],
   "source": [
    "# We define demand functions for each firm\n",
    "def demand1(t, p1, p2):\n",
    "    if t == 0:\n",
    "        return p1\n",
    "    return (-p1 + p2 + t) / (2 * t)\n",
    "\n",
    "def demand2(t, p1, p2):\n",
    "    if t == 0:\n",
    "        return p2\n",
    "    return 1 - (-p1 + p2 + t) / (2 * t)\n",
    "\n",
    "# Define profit functions as prices minus cost multiplied by the demand\n",
    "# firm 1\n",
    "def profit1(t, p1, p2, c):\n",
    "    demand = demand1(t, p1, p2)\n",
    "    if np.isnan(demand):\n",
    "        return np.nan\n",
    "    return p1 * demand - c * demand\n",
    "\n",
    "# firm 2\n",
    "def profit2(t, p1, p2, c):\n",
    "    demand = demand2(t, p1, p2)\n",
    "    if np.isnan(demand):\n",
    "        return np.nan\n",
    "    return p2 * demand - c * demand\n",
    "\n",
    "# Set objective function\n",
    "def obj(params, t, c):\n",
    "    p1, p2 = params\n",
    "    target_profit = t / 2  # Adjust the target profit based on t\n",
    "    profit_1 = profit1(t, p1, p2, c)\n",
    "    profit_2 = profit2(t, p1, p2, c)\n",
    "    if np.isnan(profit_1) or np.isnan(profit_2):\n",
    "        return np.nan\n",
    "    return (profit_1 - target_profit)**2 + (profit_2 - target_profit)**2\n",
    "\n",
    "# Assume parameter values\n",
    "t_values = np.linspace(0, 3, 100)  # Range of t values\n",
    "c = 2\n",
    "\n",
    "# Initialize arrays to store profits and prices\n",
    "pi1_values = np.zeros_like(t_values)\n",
    "pi2_values = np.zeros_like(t_values)\n",
    "p1_values = np.zeros_like(t_values)\n",
    "p2_values = np.zeros_like(t_values)\n",
    "\n",
    "# Set the initial guesses for p1 and p2\n",
    "p1 = 3\n",
    "p2 = 3\n",
    "\n",
    "# Find Nash equilibrium in prices for each t\n",
    "for i, t in enumerate(t_values):\n",
    "    # Find Nash equilibrium for current t\n",
    "    res = opt.minimize(obj, [p1, p2], args=(t, c), method=\"L-BFGS-B\", bounds=[(0, None), (0, None)], tol=1e-8)\n",
    "    p1_opt, p2_opt = res.x\n",
    "\n",
    "    # Calculate profits at Nash equilibrium for current t\n",
    "    pi1_opt = profit1(t, p1_opt, p2_opt, c)\n",
    "    pi2_opt = profit2(t, p1_opt, p2_opt, c)\n",
    "\n",
    "    # Store profits and prices\n",
    "    pi1_values[i] = pi1_opt\n",
    "    pi2_values[i] = pi2_opt\n",
    "    p1_values[i] = p1_opt\n",
    "    p2_values[i] = p2_opt\n",
    "\n",
    "# Print results\n",
    "print(f\"Firm 1: profit = {pi1_opt:.2f}, price = {p1_opt:.2f}, for c=2 and t=3\")\n",
    "print(f\"Firm 2: profit = {pi2_opt:.2f}, price = {p2_opt:.2f}, for c=2 and t=3\")"
   ]
  },
  {
   "attachments": {},
   "cell_type": "markdown",
   "metadata": {},
   "source": [
    "In the analytical part, we found that the optimal profit is given by: $\\frac{t}{2}$ and the optimal price for both firms is: $c+t$, which is consistent with the analytical results."
   ]
  },
  {
   "attachments": {},
   "cell_type": "markdown",
   "metadata": {},
   "source": [
    "**We plot the results with respect to the transportation cost:**"
   ]
  },
  {
   "cell_type": "code",
   "execution_count": 230,
   "metadata": {},
   "outputs": [
    {
     "data": {
      "image/png": "[encoded data removed]",
      "text/plain": [
       "<Figure size 800x600 with 2 Axes>"
      ]
     },
     "metadata": {},
     "output_type": "display_data"
    }
   ],
   "source": [
    "# Plot results\n",
    "fig, (ax1, ax2) = plt.subplots(nrows=2, sharex=True, figsize=(8, 6))  # Adjust figure size\n",
    "\n",
    "# Plot profit\n",
    "ax1.plot(t_values, pi1_values, label=\"Firms profits for different values of transportation costs\", color=\"blue\")\n",
    "ax1.set_ylabel('Profit')\n",
    "ax1.set_title('Profit and Price vs transportation costs')\n",
    "ax1.yaxis.set_major_locator(ticker.MultipleLocator(0.5))  # Set y-axis interval to 0.5\n",
    "ax1.legend()\n",
    "ax1.grid(True)\n",
    "\n",
    "# Plot price\n",
    "ax2.plot(t_values, p1_values, label=\"Firms prices for different values of transportation costs\", color=\"red\")\n",
    "ax2.set_xlabel('Transportation costs')\n",
    "ax2.set_ylabel('Price')\n",
    "ax2.yaxis.set_major_locator(ticker.MultipleLocator(0.5))  # Set y-axis interval to 0.5\n",
    "ax2.legend()\n",
    "ax2.grid(True)\n",
    "\n",
    "plt.xlim(0.0, 3)\n",
    "plt.tight_layout()\n",
    "plt.show()\n"
   ]
  },
  {
   "attachments": {},
   "cell_type": "markdown",
   "metadata": {},
   "source": [
    "**Conclusion**"
   ]
  },
  {
   "attachments": {},
   "cell_type": "markdown",
   "metadata": {},
   "source": [
    "This approach produces comparable results to those obtained through the analytical approach. Where the firms gain market power when the transportation cost increases, and loses market power when the transportation cost decreases."
   ]
  }
 ],
 "metadata": {
  "kernelspec": {
   "display_name": "base",
   "language": "python",
   "name": "python3"
  },
  "language_info": {
   "codemirror_mode": {
    "name": "ipython",
    "version": 3
   },
   "file_extension": ".py",
   "mimetype": "text/x-python",
   "name": "python",
   "nbconvert_exporter": "python",
   "pygments_lexer": "ipython3",
   "version": "3.9.16"
  },
  "orig_nbformat": 4,
  "vscode": {
   "interpreter": {
    "hash": "27871bb776cd64da3396aefbb91cd1f5b94cfa7205ce999e2f32adc9cda7309b"
   }
  }
 },
 "nbformat": 4,
 "nbformat_minor": 2
}
